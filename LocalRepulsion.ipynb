{
 "cells": [
  {
   "cell_type": "code",
   "execution_count": 1,
   "id": "f8bece7f-715f-424e-8e02-296c41fe9fff",
   "metadata": {},
   "outputs": [],
   "source": [
    "from sympy import *\n",
    "from sympy.printing import latex"
   ]
  },
  {
   "cell_type": "code",
   "execution_count": 14,
   "id": "6ca31337-f553-4864-bf0f-491ef2769043",
   "metadata": {},
   "outputs": [],
   "source": [
    "#Initialize symbols\n",
    "x, y, u, v,  = symbols('x y u v', real = True)\n",
    "r, k1, k2, absz = symbols('r k1 k2 |z|', positive = True)\n",
    "\n",
    "#Define standard differentials\n",
    "dx = lambda f : diff(f,x)\n",
    "dy = lambda f : diff(f,y)\n",
    "du = lambda f : diff(f,u)\n",
    "dv = lambda f : diff(f,v)"
   ]
  },
  {
   "cell_type": "markdown",
   "id": "801543eb",
   "metadata": {},
   "source": [
    "$\\textbf{Part 1:}$ Symbolic matrix computations supporting Lemmas $4.3$ and $11.7$"
   ]
  },
  {
   "cell_type": "markdown",
   "id": "62e3bda4-b227-4146-be3a-2dc41f56b74b",
   "metadata": {},
   "source": [
    "We define the covariance function $C(x, y, u, v) = \\mathbb{E}[F(x + i y)\\overline{F(u + i v)}]$"
   ]
  },
  {
   "cell_type": "code",
   "execution_count": 3,
   "id": "f99deb03-7e93-448d-8b7b-8319db9c46b6",
   "metadata": {},
   "outputs": [
    {
     "data": {
      "text/latex": [
       "$\\displaystyle \\left(- \\left(- u + x\\right)^{2} - \\left(- v + y\\right)^{2} + 1\\right) e^{\\left(u - i v\\right) \\left(x + i y\\right)}$"
      ],
      "text/plain": [
       "(-(-u + x)**2 - (-v + y)**2 + 1)*exp((u - I*v)*(x + I*y))"
      ]
     },
     "execution_count": 3,
     "metadata": {},
     "output_type": "execute_result"
    }
   ],
   "source": [
    "C = (1-((x-u)**2+(y-v)**2))*exp((x+I*y)*(u-I*v))\n",
    "C"
   ]
  },
  {
   "cell_type": "markdown",
   "id": "1fc03c13-8038-43d6-8c9f-852db6ec09ad",
   "metadata": {},
   "source": [
    "We compute the covariance matrix $M_1^r$ of $(F(ir), F(-ir))$"
   ]
  },
  {
   "cell_type": "code",
   "execution_count": 13,
   "id": "c1a63d24-bcf3-43d2-8d31-fd11397cbdfe",
   "metadata": {},
   "outputs": [
    {
     "data": {
      "text/latex": [
       "$\\displaystyle \\left[\\begin{matrix}e^{r^{2}} & \\left(1 - 4 r^{2}\\right) e^{- r^{2}}\\\\\\left(1 - 4 r^{2}\\right) e^{- r^{2}} & e^{r^{2}}\\end{matrix}\\right]$"
      ],
      "text/plain": [
       "Matrix([\n",
       "[              exp(r**2), (1 - 4*r**2)*exp(-r**2)],\n",
       "[(1 - 4*r**2)*exp(-r**2),               exp(r**2)]])"
      ]
     },
     "execution_count": 13,
     "metadata": {},
     "output_type": "execute_result"
    }
   ],
   "source": [
    "M1r = zeros(2, 2)\n",
    "M1r[0, 0] = C.subs([(x, 0), (y, r), (u, 0), (v, r)])\n",
    "M1r[0, 1] = C.subs([(x, 0), (y, r), (u, 0), (v, -r)])\n",
    "M1r[1, 0] = C.subs([(x, 0), (y, -r), (u, 0), (v, r)])\n",
    "M1r[1, 1] = C.subs([(x, 0), (y, -r), (u, 0), (v, -r)])\n",
    "M1r"
   ]
  },
  {
   "cell_type": "markdown",
   "id": "97dadd02-5e54-4287-ad60-dadf0d0bde32",
   "metadata": {},
   "source": [
    "We compute the matrix $M_2^r$ describing the correlations between $(F^{(1, 0)}(0), F^{(0, 2)}(0), F^{(0, 3)}(0))$ and $(F(ir), F(-ir))$"
   ]
  },
  {
   "cell_type": "code",
   "execution_count": 5,
   "id": "be74bb2c-6599-47cd-b55b-1bd102c712ad",
   "metadata": {},
   "outputs": [
    {
     "data": {
      "text/latex": [
       "$\\displaystyle \\left[\\begin{matrix}i r \\left(1 - r^{2}\\right) & - r^{4} + 5 r^{2} - 2 & r \\left(- r^{4} + 7 r^{2} - 6\\right)\\\\i r \\left(r^{2} - 1\\right) & - r^{4} + 5 r^{2} - 2 & r \\left(r^{4} - 7 r^{2} + 6\\right)\\end{matrix}\\right]$"
      ],
      "text/plain": [
       "Matrix([\n",
       "[I*r*(1 - r**2), -r**4 + 5*r**2 - 2, r*(-r**4 + 7*r**2 - 6)],\n",
       "[I*r*(r**2 - 1), -r**4 + 5*r**2 - 2,  r*(r**4 - 7*r**2 + 6)]])"
      ]
     },
     "execution_count": 5,
     "metadata": {},
     "output_type": "execute_result"
    }
   ],
   "source": [
    "M2r = zeros(2, 3)\n",
    "M2r[0, 0] = du(C).subs([(x, 0), (y, r), (u, 0), (v, 0)])\n",
    "M2r[1, 0] = du(C).subs([(x, 0), (y, -r), (u, 0), (v, 0)])\n",
    "M2r[0, 1] = dv(dv(C)).subs([(x, 0), (y, r), (u, 0), (v, 0)])\n",
    "M2r[1, 1] = dv(dv(C)).subs([(x, 0), (y, -r), (u, 0), (v, 0)])\n",
    "M2r[0, 2] = dv(dv(dv(C))).subs([(x, 0), (y, r), (u, 0), (v, 0)])\n",
    "M2r[1, 2] = dv(dv(dv(C))).subs([(x, 0), (y, -r), (u, 0), (v, 0)])\n",
    "\n",
    "M2r = simplify(M2r)\n",
    "M2r"
   ]
  },
  {
   "cell_type": "markdown",
   "id": "eed3040c-126a-49ff-99df-85e704c4f514",
   "metadata": {},
   "source": [
    "We compute the conjugate transpose $(M_2^r)^*$ of $M_2^r$"
   ]
  },
  {
   "cell_type": "code",
   "execution_count": 6,
   "id": "d90fa90b-8a02-4c40-9496-1a49593a473e",
   "metadata": {},
   "outputs": [
    {
     "data": {
      "text/latex": [
       "$\\displaystyle \\left(\\left[\\begin{matrix}i r \\left(1 - r^{2}\\right) & - r^{4} + 5 r^{2} - 2 & r \\left(- r^{4} + 7 r^{2} - 6\\right)\\\\i r \\left(r^{2} - 1\\right) & - r^{4} + 5 r^{2} - 2 & r \\left(r^{4} - 7 r^{2} + 6\\right)\\end{matrix}\\right]\\right)^{\\dagger}$"
      ],
      "text/plain": [
       "Adjoint(Matrix([\n",
       "[I*r*(1 - r**2), -r**4 + 5*r**2 - 2, r*(-r**4 + 7*r**2 - 6)],\n",
       "[I*r*(r**2 - 1), -r**4 + 5*r**2 - 2,  r*(r**4 - 7*r**2 + 6)]]))"
      ]
     },
     "execution_count": 6,
     "metadata": {},
     "output_type": "execute_result"
    }
   ],
   "source": [
    "M2r_star = Adjoint(M2r)\n",
    "M2r_star"
   ]
  },
  {
   "cell_type": "markdown",
   "id": "ba0fe457-bc35-4ce1-8636-8a87cdfaeff7",
   "metadata": {},
   "source": [
    "We compute the covariance matrix $M_3^r$ of $(F^{(1, 0)}(0), F^{(0, 2)}(0), F^{(0, 3)}(0))$"
   ]
  },
  {
   "cell_type": "code",
   "execution_count": 7,
   "id": "c83db2b0-9fab-43b3-b2b9-531318ccca73",
   "metadata": {},
   "outputs": [
    {
     "data": {
      "text/latex": [
       "$\\displaystyle \\left[\\begin{matrix}3 & 0 & 6 i\\\\0 & 10 & 0\\\\- 6 i & 0 & 42\\end{matrix}\\right]$"
      ],
      "text/plain": [
       "Matrix([\n",
       "[   3,  0, 6*I],\n",
       "[   0, 10,   0],\n",
       "[-6*I,  0,  42]])"
      ]
     },
     "execution_count": 7,
     "metadata": {},
     "output_type": "execute_result"
    }
   ],
   "source": [
    "M3r = zeros(3,3)\n",
    "M3r[0,0] = du(dx(C)).subs([(x, 0), (y, 0), (u, 0), (v, 0)])\n",
    "M3r[0,1] = dv(dv(dx(C))).subs([(x, 0), (y, 0), (u, 0), (v, 0)])\n",
    "M3r[1,0] = dy(dy(du(C))).subs([(x, 0), (y, 0), (u, 0), (v, 0)])\n",
    "M3r[0,2] = dv(dv(dv(dx(C)))).subs([(x, 0), (y, 0), (u, 0), (v, 0)])\n",
    "M3r[2,0] = dy(dy(dy(du(C)))).subs([(x, 0), (y, 0), (u, 0), (v, 0)])\n",
    "M3r[1,1] = dv(dv(dy(dy(C)))).subs([(x, 0), (y, 0), (u, 0), (v, 0)])\n",
    "M3r[1,2] = dv(dv(dv(dy(dy(C))))).subs([(x, 0), (y, 0), (u, 0), (v, 0)])\n",
    "M3r[2,1] = dy(dy(dy(dv(dv(C))))).subs([(x, 0), (y, 0), (u, 0), (v, 0)])\n",
    "M3r[2,2] = dv(dv(dv(dy(dy(dy(C)))))).subs([(x, 0), (y, 0), (u, 0), (v, 0)])\n",
    "M3r"
   ]
  },
  {
   "cell_type": "markdown",
   "id": "47447f92-f765-4849-8cd2-64b89985d065",
   "metadata": {},
   "source": [
    "We compute by Gaussian regression the covariance matrix $M^r$ of $(F^{(1, 0)}(0), F^{(0, 2)}(0), F^{(0, 3)}(0))$ conditioned on $F(ir) = F(-ir) = 0$"
   ]
  },
  {
   "cell_type": "code",
   "execution_count": 12,
   "id": "c96f743e-7253-4050-928e-0c87be35b847",
   "metadata": {},
   "outputs": [
    {
     "data": {
      "text/latex": [
       "$\\displaystyle \\left[\\begin{matrix}- \\frac{2 r^{2} \\left(r^{4} - 2 r^{2} + 1\\right) e^{r^{2}}}{4 r^{2} + e^{2 r^{2}} - 1} + 3 & 0 & - \\frac{2 i r^{2} \\left(- r^{6} + 8 r^{4} - 13 r^{2} + 6\\right) e^{r^{2}}}{4 r^{2} + e^{2 r^{2}} - 1} + 6 i\\\\0 & 10 - \\frac{2 \\left(- r^{8} + 10 r^{6} - 29 r^{4} + 20 r^{2} - 4\\right) e^{r^{2}}}{4 r^{2} - e^{2 r^{2}} - 1} & 0\\\\- \\frac{2 i r^{2} \\left(r^{6} - 8 r^{4} + 13 r^{2} - 6\\right) e^{r^{2}}}{4 r^{2} + e^{2 r^{2}} - 1} - 6 i & 0 & - \\frac{2 r^{2} \\left(r^{8} - 14 r^{6} + 61 r^{4} - 84 r^{2} + 36\\right) e^{r^{2}}}{4 r^{2} + e^{2 r^{2}} - 1} + 42\\end{matrix}\\right]$"
      ],
      "text/plain": [
       "Matrix([\n",
       "[              -2*r**2*(r**4 - 2*r**2 + 1)*exp(r**2)/(4*r**2 + exp(2*r**2) - 1) + 3,                                                                                     0,         -2*I*r**2*(-r**6 + 8*r**4 - 13*r**2 + 6)*exp(r**2)/(4*r**2 + exp(2*r**2) - 1) + 6*I],\n",
       "[                                                                                 0, 10 - 2*(-r**8 + 10*r**6 - 29*r**4 + 20*r**2 - 4)*exp(r**2)/(4*r**2 - exp(2*r**2) - 1),                                                                                           0],\n",
       "[-2*I*r**2*(r**6 - 8*r**4 + 13*r**2 - 6)*exp(r**2)/(4*r**2 + exp(2*r**2) - 1) - 6*I,                                                                                     0, -2*r**2*(r**8 - 14*r**6 + 61*r**4 - 84*r**2 + 36)*exp(r**2)/(4*r**2 + exp(2*r**2) - 1) + 42]])"
      ]
     },
     "execution_count": 12,
     "metadata": {},
     "output_type": "execute_result"
    }
   ],
   "source": [
    "Mr = M3r - simplify(M2r_star*Inverse(M1r)*M2r)\n",
    "Mr"
   ]
  },
  {
   "cell_type": "markdown",
   "id": "e4915cb4-bc46-4da0-a810-6369a834578b",
   "metadata": {},
   "source": [
    "We compute the limit $M^0$ of $M^r$ as $r \\rightarrow 0$"
   ]
  },
  {
   "cell_type": "code",
   "execution_count": 9,
   "id": "4a98b47a-d8a8-48ad-a510-d5fd47076cce",
   "metadata": {},
   "outputs": [
    {
     "data": {
      "text/latex": [
       "$\\displaystyle \\left[\\begin{matrix}\\frac{8}{3} & 0 & 4 i\\\\0 & 6 & 0\\\\- 4 i & 0 & 30\\end{matrix}\\right]$"
      ],
      "text/plain": [
       "Matrix([\n",
       "[ 8/3, 0, 4*I],\n",
       "[   0, 6,   0],\n",
       "[-4*I, 0,  30]])"
      ]
     },
     "execution_count": 9,
     "metadata": {},
     "output_type": "execute_result"
    }
   ],
   "source": [
    "M0 = Mr.limit(r, 0)\n",
    "M0"
   ]
  },
  {
   "cell_type": "markdown",
   "id": "bc716f44",
   "metadata": {},
   "source": [
    "$\\textbf{Part 2:}$ Symbolic integration supporting Lemmas $11.5$, $11.6$:"
   ]
  },
  {
   "cell_type": "markdown",
   "id": "b7d383f6",
   "metadata": {},
   "source": [
    "We compute the integral $I_1 = 4\\pi^2 \\int_{0}^\\infty \\int_0^{r k_2} \\frac{1}{\\pi^2} e^{-k_1^2 -k_2^2} k_1 k_2 dk_1 dk_2$ (Lemma $11.5$)"
   ]
  },
  {
   "cell_type": "code",
   "execution_count": 10,
   "id": "a3db7f46",
   "metadata": {},
   "outputs": [
    {
     "data": {
      "text/latex": [
       "$\\displaystyle \\frac{r^{2}}{r^{2} + 1}$"
      ],
      "text/plain": [
       "r**2/(r**2 + 1)"
      ]
     },
     "execution_count": 10,
     "metadata": {},
     "output_type": "execute_result"
    }
   ],
   "source": [
    "Itemp1 = 4*pi**2*integrate(1/pi**2*exp(-k1**2 - k2**2)*k1*k2, (k1, 0, r*k2)) \n",
    "I1 = integrate(Itemp1, (k2, 0, +oo))\n",
    "simplify(I1)"
   ]
  },
  {
   "cell_type": "markdown",
   "id": "ed33d35d",
   "metadata": {},
   "source": [
    "We compute the integral $I_2 = 4\\pi^2 \\int_0^\\infty \\int_0^{\\frac{|z|^3}{6} k_2} k_2^2 (\\frac{|z|^6}{36} k_2^2 - k_1^2) \\frac{1}{\\pi^2} e^{-k_1^2 - k_2^2} k_1 k_2 dk_1 dk_2$ (Lemma $11.6$)"
   ]
  },
  {
   "cell_type": "code",
   "execution_count": 11,
   "id": "634e47eb",
   "metadata": {},
   "outputs": [
    {
     "data": {
      "text/latex": [
       "$\\displaystyle \\frac{|z|^{12} \\left(|z|^{6} + 54\\right)}{18 \\left(|z|^{12} + 72 |z|^{6} + 1296\\right)}$"
      ],
      "text/plain": [
       "|z|**12*(|z|**6 + 54)/(18*(|z|**12 + 72*|z|**6 + 1296))"
      ]
     },
     "execution_count": 11,
     "metadata": {},
     "output_type": "execute_result"
    }
   ],
   "source": [
    "Itemp2 = 4*pi**2*integrate(k2**2*(absz**6/36*k2**2- k1**2)*1/pi**2*exp(-k1**2 -k2**2)*k1*k2, (k1, 0, absz**3/6*k2))\n",
    "I2 = integrate(Itemp2, (k2 ,0, oo))\n",
    "simplify(I2)"
   ]
  },
 "metadata": {
  "kernelspec": {
   "display_name": "Python 3 (ipykernel)",
   "language": "python",
   "name": "python3"
  },
  "language_info": {
   "codemirror_mode": {
    "name": "ipython",
    "version": 3
   },
   "file_extension": ".py",
   "mimetype": "text/x-python",
   "name": "python",
   "nbconvert_exporter": "python",
   "pygments_lexer": "ipython3",
   "version": "3.10.12"
  }
 },
 "nbformat": 4,
 "nbformat_minor": 5
}
